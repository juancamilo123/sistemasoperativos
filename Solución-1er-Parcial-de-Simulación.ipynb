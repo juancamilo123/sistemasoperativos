{
 "cells": [
  {
   "cell_type": "code",
   "execution_count": 22,
   "metadata": {
    "collapsed": true
   },
   "outputs": [],
   "source": [
    "import numpy as np\n",
    "import scipy as sp\n",
    "\n",
    "def genran(a,b,m,xant):\n",
    "    xsig = (a*xant + b) % m\n",
    "    usig = xsig / m\n",
    "    return [xsig,usig]\n",
    "\n",
    "def genranN(a,b,m,x0,N):\n",
    "    xant = x0\n",
    "    I=[]\n",
    "    X=[]\n",
    "    U=[]\n",
    "    for t in range(1, N+1):\n",
    "        [xi,ui] = genran(a,b,m,xant)\n",
    "        I.append(t)\n",
    "        X.append(xi)\n",
    "        U.append(ui)\n",
    "        xant = xi\n",
    "    return [I,X,U]\n",
    "\n",
    "def showValues(I,X,U):\n",
    "    print(\"i\\tXi\\tUi\")\n",
    "    for t in range(0, len(X)):\n",
    "        print(\"%d\\t%d\\t%2.4f\" % (I[t],X[t],U[t]), sep=' ', end='\\n')"
   ]
  },
  {
   "cell_type": "markdown",
   "metadata": {},
   "source": [
    "**Una secuencia de valores pseudoaletorios debe asegurar: 1. Uniformidad 2. Complejidad 3. Aleatoriedad 4. Circularidad**\n",
    "\n",
    "    A. Si las opciones 1 y 2 son correctas\n",
    "    B. Si las opciones 2 y 3 son correctas\n",
    "    C. Si las opciones 3 y 4 son correctas\n",
    "    D. Si las opciones 2 y 4 son correctas\n",
    "    E. Si las opciones 1 y 3 son correctas\n",
    "\n",
    "_Rta:_\n",
    "\n",
    "    E. Si las opciones 1 y 3 son correctas"
   ]
  },
  {
   "cell_type": "markdown",
   "metadata": {},
   "source": [
    "**Son dos distribuciones de probabilidad discretas: 1. Distribución Exponencial 2. Distribución Binomial 3. Distribución Gamma 4. Distribución Bernoulli**\n",
    "\n",
    "    A. Si las opciones 1 y 2 son correctas\n",
    "    B. Si las opciones 2 y 3 son correctas\n",
    "    C. Si las opciones 3 y 4 son correctas\n",
    "    D. Si las opciones 2 y 4 son correctas\n",
    "    E. Si las opciones 1 y 3 son correctas\n",
    "\n",
    "_Rta:_\n",
    "\n",
    "    D. Si las opciones 2 y 4 son correctas"
   ]
  },
  {
   "cell_type": "markdown",
   "metadata": {},
   "source": [
    "**Dos pruebas de uniformidad para números aleatorios son: 1. Midsquare 2. Kolmogorov-Smirnov 3. Chi-cuadrado 4. Montecarlo**\n",
    "\n",
    "    A. Si las opciones 1 y 2 son correctas\n",
    "    B. Si las opciones 2 y 3 son correctas\n",
    "    C. Si las opciones 3 y 4 son correctas\n",
    "    D. Si las opciones 2 y 4 son correctas\n",
    "    E. Si las opciones 1 y 3 son correctas\n",
    "\n",
    "_Rta:_\n",
    "\n",
    "    B. Si las opciones 2 y 3 son correctas"
   ]
  },
  {
   "cell_type": "markdown",
   "metadata": {},
   "source": [
    "**Sea $X_n = ( a \\times X_{n-1} + b ) \\mod m$ un generador congruencial con los siguientes parámetros: $m=91$, $a=11$, $b=4$ y $X_{0}=17$, generar los primeros $100$ valores $X_i$ y $U_i$. ¿Cúal es la longitud de la secuencia?**\n",
    "\n",
    "    A. 12\n",
    "    B. 13\n",
    "    C. 11\n",
    "    D. 91\n",
    "    E. 100\n",
    "    \n",
    "_Rta:_\n",
    "\n",
    "    A. 12"
   ]
  },
  {
   "cell_type": "code",
   "execution_count": 26,
   "metadata": {
    "collapsed": false
   },
   "outputs": [
    {
     "name": "stdout",
     "output_type": "stream",
     "text": [
      "i\tXi\tUi\n",
      "1\t9\t0.0989\n",
      "2\t12\t0.1319\n",
      "3\t45\t0.4945\n",
      "4\t44\t0.4835\n",
      "5\t33\t0.3626\n",
      "6\t3\t0.0330\n",
      "7\t37\t0.4066\n",
      "8\t47\t0.5165\n",
      "9\t66\t0.7253\n",
      "10\t2\t0.0220\n",
      "11\t26\t0.2857\n",
      "12\t17\t0.1868\n",
      "13\t9\t0.0989\n",
      "14\t12\t0.1319\n",
      "15\t45\t0.4945\n",
      "16\t44\t0.4835\n",
      "17\t33\t0.3626\n",
      "18\t3\t0.0330\n",
      "19\t37\t0.4066\n",
      "20\t47\t0.5165\n",
      "21\t66\t0.7253\n",
      "22\t2\t0.0220\n",
      "23\t26\t0.2857\n",
      "24\t17\t0.1868\n",
      "25\t9\t0.0989\n",
      "26\t12\t0.1319\n",
      "27\t45\t0.4945\n",
      "28\t44\t0.4835\n",
      "29\t33\t0.3626\n",
      "30\t3\t0.0330\n",
      "31\t37\t0.4066\n",
      "32\t47\t0.5165\n",
      "33\t66\t0.7253\n",
      "34\t2\t0.0220\n",
      "35\t26\t0.2857\n",
      "36\t17\t0.1868\n",
      "37\t9\t0.0989\n",
      "38\t12\t0.1319\n",
      "39\t45\t0.4945\n",
      "40\t44\t0.4835\n",
      "41\t33\t0.3626\n",
      "42\t3\t0.0330\n",
      "43\t37\t0.4066\n",
      "44\t47\t0.5165\n",
      "45\t66\t0.7253\n",
      "46\t2\t0.0220\n",
      "47\t26\t0.2857\n",
      "48\t17\t0.1868\n",
      "49\t9\t0.0989\n",
      "50\t12\t0.1319\n",
      "51\t45\t0.4945\n",
      "52\t44\t0.4835\n",
      "53\t33\t0.3626\n",
      "54\t3\t0.0330\n",
      "55\t37\t0.4066\n",
      "56\t47\t0.5165\n",
      "57\t66\t0.7253\n",
      "58\t2\t0.0220\n",
      "59\t26\t0.2857\n",
      "60\t17\t0.1868\n",
      "61\t9\t0.0989\n",
      "62\t12\t0.1319\n",
      "63\t45\t0.4945\n",
      "64\t44\t0.4835\n",
      "65\t33\t0.3626\n",
      "66\t3\t0.0330\n",
      "67\t37\t0.4066\n",
      "68\t47\t0.5165\n",
      "69\t66\t0.7253\n",
      "70\t2\t0.0220\n",
      "71\t26\t0.2857\n",
      "72\t17\t0.1868\n",
      "73\t9\t0.0989\n",
      "74\t12\t0.1319\n",
      "75\t45\t0.4945\n",
      "76\t44\t0.4835\n",
      "77\t33\t0.3626\n",
      "78\t3\t0.0330\n",
      "79\t37\t0.4066\n",
      "80\t47\t0.5165\n",
      "81\t66\t0.7253\n",
      "82\t2\t0.0220\n",
      "83\t26\t0.2857\n",
      "84\t17\t0.1868\n",
      "85\t9\t0.0989\n",
      "86\t12\t0.1319\n",
      "87\t45\t0.4945\n",
      "88\t44\t0.4835\n",
      "89\t33\t0.3626\n",
      "90\t3\t0.0330\n",
      "91\t37\t0.4066\n",
      "92\t47\t0.5165\n",
      "93\t66\t0.7253\n",
      "94\t2\t0.0220\n",
      "95\t26\t0.2857\n",
      "96\t17\t0.1868\n",
      "97\t9\t0.0989\n",
      "98\t12\t0.1319\n",
      "99\t45\t0.4945\n",
      "100\t44\t0.4835\n"
     ]
    }
   ],
   "source": [
    "a = 11.0\n",
    "b = 4.0\n",
    "m = 91.0\n",
    "x0 = 17.0\n",
    "N = 100\n",
    "[I,X,U] = genranN(a,b,m,x0,N)\n",
    "showValues(I,X,U)"
   ]
  },
  {
   "cell_type": "markdown",
   "metadata": {},
   "source": [
    "**Sea $X_n = ( aX_{n-1} + b ) mod m$ un generador congruencial con los siguientes parámetros: $m=271$, $a=139$, $b=17$ y $X_0=9$, generar los primeros $100$ valores $X_i$ y $U_i$. ¿Cúales son los primeros cinco numeros aleatorios $U_i$?**\n",
    "\n",
    "    A. 0.0332, 0.6790, 0.4391, 0.0996, 0.9114\n",
    "    B. 0.6790, 0.4391, 0.0996, 0.7528, 0.6974\n",
    "    C. 0.6790, 0.4391, 0.0996, 0.9114, 0.7528\n",
    "    D. 0.4391, 0.0996, 0.9114, 0.7528, 0.6974\n",
    "    E. 0.0996, 0.9114, 0.7528, 0.6974, 0.0037\n",
    "\n",
    "_Rta:_\n",
    "\n",
    "    C. 0.6790, 0.4391, 0.0996, 0.9114, 0.7528"
   ]
  },
  {
   "cell_type": "code",
   "execution_count": 27,
   "metadata": {
    "collapsed": false
   },
   "outputs": [
    {
     "name": "stdout",
     "output_type": "stream",
     "text": [
      "i\tXi\tUi\n",
      "1\t184\t0.6790\n",
      "2\t119\t0.4391\n",
      "3\t27\t0.0996\n",
      "4\t247\t0.9114\n",
      "5\t204\t0.7528\n",
      "6\t189\t0.6974\n",
      "7\t1\t0.0037\n",
      "8\t156\t0.5756\n",
      "9\t21\t0.0775\n",
      "10\t226\t0.8339\n",
      "11\t266\t0.9815\n",
      "12\t135\t0.4982\n",
      "13\t83\t0.3063\n",
      "14\t172\t0.6347\n",
      "15\t77\t0.2841\n",
      "16\t151\t0.5572\n",
      "17\t139\t0.5129\n",
      "18\t97\t0.3579\n",
      "19\t221\t0.8155\n",
      "20\t113\t0.4170\n",
      "21\t6\t0.0221\n",
      "22\t38\t0.1402\n",
      "23\t150\t0.5535\n",
      "24\t0\t0.0000\n",
      "25\t17\t0.0627\n",
      "26\t212\t0.7823\n",
      "27\t217\t0.8007\n",
      "28\t99\t0.3653\n",
      "29\t228\t0.8413\n",
      "30\t2\t0.0074\n",
      "31\t24\t0.0886\n",
      "32\t101\t0.3727\n",
      "33\t235\t0.8672\n",
      "34\t162\t0.5978\n",
      "35\t42\t0.1550\n",
      "36\t164\t0.6052\n",
      "37\t49\t0.1808\n",
      "38\t53\t0.1956\n",
      "39\t67\t0.2472\n",
      "40\t116\t0.4280\n",
      "41\t152\t0.5609\n",
      "42\t7\t0.0258\n",
      "43\t177\t0.6531\n",
      "44\t230\t0.8487\n",
      "45\t9\t0.0332\n",
      "46\t184\t0.6790\n",
      "47\t119\t0.4391\n",
      "48\t27\t0.0996\n",
      "49\t247\t0.9114\n",
      "50\t204\t0.7528\n",
      "51\t189\t0.6974\n",
      "52\t1\t0.0037\n",
      "53\t156\t0.5756\n",
      "54\t21\t0.0775\n",
      "55\t226\t0.8339\n",
      "56\t266\t0.9815\n",
      "57\t135\t0.4982\n",
      "58\t83\t0.3063\n",
      "59\t172\t0.6347\n",
      "60\t77\t0.2841\n",
      "61\t151\t0.5572\n",
      "62\t139\t0.5129\n",
      "63\t97\t0.3579\n",
      "64\t221\t0.8155\n",
      "65\t113\t0.4170\n",
      "66\t6\t0.0221\n",
      "67\t38\t0.1402\n",
      "68\t150\t0.5535\n",
      "69\t0\t0.0000\n",
      "70\t17\t0.0627\n",
      "71\t212\t0.7823\n",
      "72\t217\t0.8007\n",
      "73\t99\t0.3653\n",
      "74\t228\t0.8413\n",
      "75\t2\t0.0074\n",
      "76\t24\t0.0886\n",
      "77\t101\t0.3727\n",
      "78\t235\t0.8672\n",
      "79\t162\t0.5978\n",
      "80\t42\t0.1550\n",
      "81\t164\t0.6052\n",
      "82\t49\t0.1808\n",
      "83\t53\t0.1956\n",
      "84\t67\t0.2472\n",
      "85\t116\t0.4280\n",
      "86\t152\t0.5609\n",
      "87\t7\t0.0258\n",
      "88\t177\t0.6531\n",
      "89\t230\t0.8487\n",
      "90\t9\t0.0332\n",
      "91\t184\t0.6790\n",
      "92\t119\t0.4391\n",
      "93\t27\t0.0996\n",
      "94\t247\t0.9114\n",
      "95\t204\t0.7528\n",
      "96\t189\t0.6974\n",
      "97\t1\t0.0037\n",
      "98\t156\t0.5756\n",
      "99\t21\t0.0775\n",
      "100\t226\t0.8339\n"
     ]
    }
   ],
   "source": [
    "a = 139.0\n",
    "b = 17.0\n",
    "m = 271.0\n",
    "x0 = 9.0\n",
    "N = 100\n",
    "[I,X,U] = genranN(a,b,m,x0,N)\n",
    "showValues(I,X,U)"
   ]
  },
  {
   "cell_type": "markdown",
   "metadata": {},
   "source": [
    "**Si un generador multiplicativo tiene los parámetros $a$, $m$ y $X_0$ siempre fijos por defecto, la secuencia de números aleatorios será siempre la misma PORQUE los generadores multiplicativos no son determinísticos.**\n",
    "\n",
    "    A. Si la afirmación y la razón son VERDADERAS y la razón es una explicación CORRECTA de la afirmación \n",
    "    B. Si la afirmación y la razón son VERDADERAS, pero la razón NO es una explicación CORRECTA de la afirmación\n",
    "    C. Si la afirmación es VERDADERA, pero la razón es una proposición FALSA  \n",
    "    D. Si la afirmación es FALSA, pero la razón es una proposición VERDADERA\n",
    "    E. Si tanto la afirmación como la razón son proposiciones FALSAS\n",
    "\n",
    "_Rta:_\n",
    "\n",
    "    C. Si la afirmación es VERDADERA, pero la razón es una proposición FALSA "
   ]
  },
  {
   "cell_type": "markdown",
   "metadata": {},
   "source": [
    "Dados los siguientes valores de la distribución de probabilidad discreta de la variable aleatoria X de un dado: X = {1,2,3,4,5,6}, p(X) = {0.2,0.1,0.05,0.2,0.05,0.4}, ¿Qué valores retornaría el generador de variables aleatorias por el método de la inversión si los números aleatorios generados son: ?\n",
    "\n",
    "    A. [3, 4, 1, 5, 5, 1, 5, 3]\n",
    "    B. [4, 5, 1, 6, 6, 1, 6, 4]\n",
    "    C. [1, 1, 4, 4, 5, 6, 6, 6]\n",
    "    D. [5, 5, 1, 6, 6, 1, 6, 5]\n",
    "    E. [4, 6, 1, 6, 6, 1, 5, 4]\n",
    "    \n",
    "_Rta:_\n",
    "\n",
    "    B. [4, 5, 1, 6, 6, 1, 6, 4]"
   ]
  },
  {
   "cell_type": "code",
   "execution_count": 46,
   "metadata": {
    "collapsed": false
   },
   "outputs": [
    {
     "name": "stdout",
     "output_type": "stream",
     "text": [
      "[4, 5, 1, 6, 6, 1, 6, 4]\n"
     ]
    }
   ],
   "source": [
    "def genvardiscret(U,X,P):\n",
    "    V = []\n",
    "    for t in range(0, len(U)):\n",
    "        for t2 in range(0, len(X)):\n",
    "            if U[t]<=P[t2]:\n",
    "                V.append(X[t2])\n",
    "                break\n",
    "    return V\n",
    "\n",
    "X=[1,2,3,4,5,6]\n",
    "p=[0.2,0.1,0.05,0.2,0.05,0.4]\n",
    "\n",
    "X=np.array(X)\n",
    "p=np.array(p)\n",
    "P=p.cumsum()\n",
    "\n",
    "U=[0.4280, 0.5609, 0.0258, 0.6531, 0.8487, 0.0332, 0.6790, 0.4391]\n",
    "V=genvardiscret(U,X,P)\n",
    "print(V)"
   ]
  },
  {
   "cell_type": "markdown",
   "metadata": {},
   "source": [
    "**¿Cúal es el valor del estadístico de Kolmogorov–Smirnov para una secuencia de 2000 numeros aleatorios de un generador congruencial mixto con a = 16645, b = 13467, m = 317, X_0 = 999?**\n",
    "\n",
    "    A. 0.250136394952\n",
    "    B. 5.14033260401e-14\n",
    "    C. 0.153840247608\n",
    "    D. 0.250339459672\n",
    "    E. 0.22878622683\n",
    "    \n",
    "_Rta:_\n",
    "\n",
    "    E. 0.22878622683"
   ]
  },
  {
   "cell_type": "code",
   "execution_count": 50,
   "metadata": {
    "collapsed": false
   },
   "outputs": [
    {
     "name": "stdout",
     "output_type": "stream",
     "text": [
      "De =  0.22878622683\n"
     ]
    }
   ],
   "source": [
    "N = 2000\n",
    "\n",
    "# Teoretical CDF for Uniform distribution F(x)\n",
    "u = [1.0] * N\n",
    "#print(u)\n",
    "\n",
    "# Gerate random numbers with Uniform distribution f(x)\n",
    "a = 16645.0\n",
    "b = 13467.0\n",
    "m = 317.0\n",
    "x0 = 999.0\n",
    "\n",
    "[I,X,U] = genranN(a,b,m,x0,N)\n",
    "x = U\n",
    "\n",
    "x1 = np.arange(1/N,1+1/N,1/N)\n",
    "y1 = np.cumsum(np.sort(u)/np.max(np.cumsum(u)))\n",
    "\n",
    "x2 = np.sort(x)\n",
    "y2 = np.cumsum(np.sort(x)/np.max(np.cumsum(x)))\n",
    "\n",
    "De=np.absolute(y2-y1)\n",
    "#print(D)\n",
    "print(\"De = \",np.max(De))\n"
   ]
  },
  {
   "cell_type": "markdown",
   "metadata": {},
   "source": [
    "**¿Cúal es el valor del estadístico de Chi-cuadrado para una secuencia de 2000 numeros aleatorios y un k=100 de un generador congruencial mixto con a = 16645, b = 13467, m = 317, X_0 = 999?**\n",
    "\n",
    "    A. 610.537\n",
    "    B. -1.22125e-15\n",
    "    C. 56.9\n",
    "    D. 616.5\n",
    "    E. 12330\n",
    "    \n",
    "_Rta:_\n",
    "\n",
    "    D. 616.5"
   ]
  },
  {
   "cell_type": "code",
   "execution_count": 87,
   "metadata": {
    "collapsed": false
   },
   "outputs": [
    {
     "name": "stdout",
     "output_type": "stream",
     "text": [
      "Chi2 = 616.5\n",
      "[ 37.   0.  26.  13.   0.  12.  26.   0.  13.   0.  25.  12.  26.  25.  38.\n",
      "  12.  12.  13.  26.  13.  39.  13.  25.  13.  26.  12.  13.   0.  26.  13.\n",
      "   0.   0.  25.  12.  26.  25.  26.  25.  25.  26.  25.  26.  24.  12.  13.\n",
      "  13.  24.  38.  26.  38.  12.  25.  13.  12.  26.  37.  26.  12.  13.  26.\n",
      "  38.   0.  13.  12.  25.  25.  24.  12.  13.  26.  26.  26.  13.  12.   0.\n",
      "  37.  25.  12.  13.  25.  38.  37.   0.  13.  26.  13.  51.  24.  39.  13.\n",
      "  12.  12.  13.  38.  26.  13.  26.  26.  25.  38.]\n"
     ]
    }
   ],
   "source": [
    "import matplotlib.pyplot as plt\n",
    "\n",
    "N = 2000\n",
    "k = 100\n",
    "# Gerate random numbers with Uniform distribution f(x)\n",
    "a = 16645.0\n",
    "b = 13467.0\n",
    "m = 317.0\n",
    "x0 = 999.0\n",
    "\n",
    "[I,X,U] = genranN(a,b,m,x0,N)\n",
    "x = U\n",
    "\n",
    "ei = float(N/(k))\n",
    "\n",
    "count, bins, ignored = plt.hist(x, k, normed=False)\n",
    "fi = count\n",
    "\n",
    "chi2 = 0.0\n",
    "for t in range(1, k+1):\n",
    "    chi2 = chi2 + (float((float(fi[t-1])-ei)**2)/ei)\n",
    "print(\"Chi2 = %g\"%chi2)\n",
    "print(count)"
   ]
  },
  {
   "cell_type": "code",
   "execution_count": null,
   "metadata": {
    "collapsed": true
   },
   "outputs": [],
   "source": []
  }
 ],
 "metadata": {
  "kernelspec": {
   "display_name": "Python 3",
   "language": "python",
   "name": "python3"
  },
  "language_info": {
   "codemirror_mode": {
    "name": "ipython",
    "version": 3
   },
   "file_extension": ".py",
   "mimetype": "text/x-python",
   "name": "python",
   "nbconvert_exporter": "python",
   "pygments_lexer": "ipython3",
   "version": "3.4.3"
  }
 },
 "nbformat": 4,
 "nbformat_minor": 0
}
